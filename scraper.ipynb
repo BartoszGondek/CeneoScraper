{
 "cells": [
  {
   "cell_type": "markdown",
   "metadata": {},
   "source": [
    "### Imports"
   ]
  },
  {
   "cell_type": "code",
   "execution_count": 55,
   "metadata": {},
   "outputs": [],
   "source": [
    "import os \n",
    "import json \n",
    "import requests\n",
    "from bs4 import BeautifulSoup "
   ]
  },
  {
   "cell_type": "markdown",
   "metadata": {},
   "source": [
    "Utils \n"
   ]
  },
  {
   "cell_type": "code",
   "execution_count": 59,
   "metadata": {},
   "outputs": [],
   "source": [
    "def extract(ancestor, selector, attribute= None, multiple= False):\n",
    "    if multiple:\n",
    "      if attribute:\n",
    "        return [tag[attribute] for tag in ancestor.select(selector)]\n",
    "      return [tag.get_text() for tag in ancestor.select(selector)]\n",
    "    if attribute:\n",
    "      try:\n",
    "        return ancestor.select_one(selector)[attribute]\n",
    "      except TypeError:\n",
    "        return None \n",
    "    try:\n",
    "      return ancestor.select_one(selector).get_text()\n",
    "    except AttributeError:\n",
    "      return None "
   ]
  },
  {
   "cell_type": "code",
   "execution_count": 56,
   "metadata": {},
   "outputs": [],
   "source": [
    "with open(\"./cookie.json\", \"r\", ) as jasonfile:\n",
    "    headers = json.load(jasonfile) "
   ]
  },
  {
   "cell_type": "code",
   "execution_count": 62,
   "metadata": {},
   "outputs": [
    {
     "ename": "TypeError",
     "evalue": "extract() takes 2 positional arguments but 4 were given",
     "output_type": "error",
     "traceback": [
      "\u001b[31m---------------------------------------------------------------------------\u001b[39m",
      "\u001b[31mTypeError\u001b[39m                                 Traceback (most recent call last)",
      "\u001b[36mCell\u001b[39m\u001b[36m \u001b[39m\u001b[32mIn[62]\u001b[39m\u001b[32m, line 16\u001b[39m\n\u001b[32m     14\u001b[39m single_opinion[\u001b[33m\"\u001b[39m\u001b[33mstars\u001b[39m\u001b[33m\"\u001b[39m] = extract(opinion, \u001b[33m\"\u001b[39m\u001b[33mspan.user-post__score-count\u001b[39m\u001b[33m\"\u001b[39m)\n\u001b[32m     15\u001b[39m single_opinion[\u001b[33m\"\u001b[39m\u001b[33mcontent\u001b[39m\u001b[33m\"\u001b[39m] = extract(opinion, \u001b[33m\"\u001b[39m\u001b[33mdiv.user-post__text\u001b[39m\u001b[33m\"\u001b[39m)\n\u001b[32m---> \u001b[39m\u001b[32m16\u001b[39m single_opinion[\u001b[33m\"\u001b[39m\u001b[33mpros\u001b[39m\u001b[33m\"\u001b[39m] = \u001b[43mextract\u001b[49m\u001b[43m(\u001b[49m\u001b[43mopinion\u001b[49m\u001b[43m,\u001b[49m\u001b[33;43m\"\u001b[39;49m\u001b[33;43mdiv.review-feature__item--positive\u001b[39;49m\u001b[33;43m\"\u001b[39;49m\u001b[43m,\u001b[49m\u001b[43m \u001b[49m\u001b[38;5;28;43;01mNone\u001b[39;49;00m\u001b[43m,\u001b[49m\u001b[43m \u001b[49m\u001b[38;5;28;43;01mTrue\u001b[39;49;00m\u001b[43m)\u001b[49m\n\u001b[32m     17\u001b[39m single_opinion[\u001b[33m\"\u001b[39m\u001b[33mcons\u001b[39m\u001b[33m\"\u001b[39m] = extract(opinion,\u001b[33m\"\u001b[39m\u001b[33mdiv.review-feature__item--negative\u001b[39m\u001b[33m\"\u001b[39m, \u001b[38;5;28;01mNone\u001b[39;00m, \u001b[38;5;28;01mTrue\u001b[39;00m)\n\u001b[32m     18\u001b[39m single_opinion[\u001b[33m\"\u001b[39m\u001b[33mvote_yes\u001b[39m\u001b[33m\"\u001b[39m] = extract(opinion,\u001b[33m\"\u001b[39m\u001b[33mbutton.vote-yes\u001b[39m\u001b[33m\"\u001b[39m,\u001b[33m\"\u001b[39m\u001b[33mdata-total-vote\u001b[39m\u001b[33m\"\u001b[39m)\n",
      "\u001b[31mTypeError\u001b[39m: extract() takes 2 positional arguments but 4 were given"
     ]
    }
   ],
   "source": [
    "product_id = \"84514582\"\n",
    "next_page = f\"https://www.ceneo.pl/{product_id}#tab=reviews\"\n",
    "all_opinions = []\n",
    "while next_page:\n",
    "    response = requests.get(next_page, headers=headers)\n",
    "    if response.status_code == 200:\n",
    "        page_dom = BeautifulSoup(response.text, 'html.parser')\n",
    "        opinions = page_dom.select(\"div.js_product-review:not(.user-post--highlight)\")\n",
    "        for opinion in opinions:\n",
    "            single_opinion = {}\n",
    "            single_opinion[\"opinion_id\"] = opinion[\"data-entry-id\"]\n",
    "            single_opinion[\"author\"] = extract(opinion, \"span.user-post__author-name\")\n",
    "            single_opinion[\"recommendation\"] = extract(opinion,\"span.user-post__author-recomendation > em\") \n",
    "            single_opinion[\"stars\"] = extract(opinion, \"span.user-post__score-count\")\n",
    "            single_opinion[\"content\"] = extract(opinion, \"div.user-post__text\")\n",
    "            single_opinion[\"pros\"] = extract(opinion,\"div.review-feature__item--positive\", None, True)\n",
    "            single_opinion[\"cons\"] = extract(opinion,\"div.review-feature__item--negative\", None, True)\n",
    "            single_opinion[\"vote_yes\"] = extract(opinion,\"button.vote-yes\",\"data-total-vote\")\n",
    "            single_opinion[\"vote_no\"] = extract(opinion,\"button.vote-no\",\"data-total-vote\")\n",
    "            single_opinion[\"publish\"] = extract(opinion,\"span.user-post__published > time:nth-child(1)\",\"datetime\")\n",
    "            single_opinion[\"purchase\"] = extract(opinion,\"span.user-post__published > time:nth-child(2)\",\"datetime\")\n",
    "            all_opinions.append(single_opinion)\n",
    "        try:\n",
    "            next_page = \"https://www.ceneo.pl\" + page_dom.select_one(\"a.pagination__next\")[\"href\"]\n",
    "        except TypeError:\n",
    "            next_page = None  \n",
    "             "
   ]
  },
  {
   "cell_type": "code",
   "execution_count": 58,
   "metadata": {},
   "outputs": [],
   "source": [
    "if not os.path.exists(\"./opinions\"):\n",
    "    os.mkdir(\"./opinions\")\n",
    "with open(f\"./opinions{product_id}.json\", \"w\", encoding=\"UTF-8\") as jasonfile:\n",
    "    json.dump(all_opinions, jasonfile, ensure_ascii=False, indent = 4)"
   ]
  }
 ],
 "metadata": {
  "kernelspec": {
   "display_name": ".venv",
   "language": "python",
   "name": "python3"
  },
  "language_info": {
   "codemirror_mode": {
    "name": "ipython",
    "version": 3
   },
   "file_extension": ".py",
   "mimetype": "text/x-python",
   "name": "python",
   "nbconvert_exporter": "python",
   "pygments_lexer": "ipython3",
   "version": "3.11.4"
  }
 },
 "nbformat": 4,
 "nbformat_minor": 2
}
